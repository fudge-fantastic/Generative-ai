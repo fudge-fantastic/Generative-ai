{
 "cells": [
  {
   "cell_type": "code",
   "execution_count": 9,
   "metadata": {},
   "outputs": [],
   "source": [
    "import os\n",
    "import dotenv\n",
    "from groq import Groq\n",
    "from IPython.display import display_markdown\n",
    "\n",
    "dotenv.load_dotenv()\n",
    "api_key = os.environ.get(\"GROQ_API_KEY\")\n",
    "\n",
    "if not api_key:\n",
    "    raise ValueError(\"GROQ_API_KEY environment variable not set\")"
   ]
  },
  {
   "cell_type": "code",
   "execution_count": 10,
   "metadata": {},
   "outputs": [],
   "source": [
    "def get_llama_assistance(prompt):\n",
    "  client = Groq(api_key=api_key)\n",
    "  completion = client.chat.completions.create(\n",
    "      model=\"llama3-70b-8192\",\n",
    "      messages=[\n",
    "          {\n",
    "              \"role\": \"user\",\n",
    "              \"content\": prompt\n",
    "          },\n",
    "          {\n",
    "              \"role\": \"assistant\",\n",
    "              \"content\": \"\"\n",
    "          }\n",
    "      ],\n",
    "      temperature=1.4,\n",
    "      max_tokens=8192,\n",
    "      top_p=1,\n",
    "      stream=True,\n",
    "      stop=None,\n",
    "  )\n",
    "\n",
    "  response_text = \"\"\n",
    "\n",
    "  for chunk in completion:\n",
    "    response_text += chunk.choices[0].delta.content or \"\"\n",
    "\n",
    "  # Display the formatted response in markdown\n",
    "  display_markdown(f\"`\\n{response_text}\\n`\", raw=True)"
   ]
  },
  {
   "cell_type": "code",
   "execution_count": 11,
   "metadata": {},
   "outputs": [
    {
     "name": "stdout",
     "output_type": "stream",
     "text": [
      "d:\\CODING\\Generative-AI\\Gemini\\poppler-24.02.0\\Library\\bin\n"
     ]
    }
   ],
   "source": [
    "cwd = os.getcwd()\n",
    "path1 = os.path.dirname(cwd)\n",
    "poppler_path = os.path.join(path1, 'Gemini', 'poppler-24.02.0', 'Library', 'bin')\n",
    "print(poppler_path)"
   ]
  },
  {
   "cell_type": "code",
   "execution_count": 12,
   "metadata": {},
   "outputs": [],
   "source": [
    "# !pip install pdfquery\n",
    "# !pip install pdfplumber"
   ]
  },
  {
   "cell_type": "code",
   "execution_count": 13,
   "metadata": {},
   "outputs": [
    {
     "name": "stdout",
     "output_type": "stream",
     "text": [
      "Work and Projects\n",
      "A a d i t y a\n",
      "Fresher with a strong theoretical understanding of company systems and operations.\n",
      "P a n d a g l e While not having direct work experience, you can explore my GitHub profile where I’ve\n",
      "performed statistical analysis and created predictive models. The portfolio spans various\n",
      "topics such as:\n",
      "Data Science | AI & Machine Learning |\n",
      "MLOps Machine Learning:\n",
      "Fraud Detection: Identify fraudulent activities within financial transactions using ML\n",
      "algorithms on authentic datasets.\n",
      "Credit Risk Assessment: Assessing credit risk for loan applicants using predictive\n",
      "Contact:\n",
      "modelling.\n",
      "House Rent Prediction: Using machine learning algorithms to predict house rent\n",
      "adi.pandagle@gmail.com\n",
      "prices in India.\n",
      "+91 79725 67926 Customer Discount Offering Prediction: Predict which customers will likely receive\n",
      "discounts for targeted marketing.\n",
      "LinkedIn and GitHub link Salary Prediction: Predicting individual salaries based on demographic and\n",
      "employment details.\n",
      "Education: Deep Learning:\n",
      "American Sign Language Detection: Developed a model to recognize and interpret\n",
      "Post Graduation Program in Data Science\n",
      "American Sign Language gestures for communication accessibility.\n",
      "and Analytics - Imarticus Learning (Pune)\n",
      "(2023 - 2024) Others:\n",
      "Django: Utilized Django to create a web-based diabetes prediction model.\n",
      "Bachelors' in Business Administration OCR-Gemini: Leveraged Tesseract for invoice text extraction and Gemini for data\n",
      "(Computer Application) Modern College of structuring the extracted data into JSON format.\n",
      "Commerce & Computer Studies; Savitribai MLOps Sandbox: MLOps Integration Testing (Docker, Jenkins, CI/CD)\n",
      "Phule Pune University Affiliated.\n",
      "(2020 - 2023) CGPA - 8.61 Certifications and Achievemnets\n",
      "Udemy: Python for Data Science and Machine Learning Bootcamp\n",
      "Senior Secondary School - PDEA's Shri\n",
      "Kaggle - Beginner and Intermediate Machine Learning\n",
      "Mhalsakant Vidyalaya & Jr. College.\n",
      "HackerRank - SQL Basic and Intermediate\n",
      "(2018 - 2020) - 55.69%\n",
      "Udemy: Python Data Structures and Algorithm\n",
      "Udemy: Amazon Web Services - Solution Architect.\n",
      "High School - S.P.M English Medium\n",
      "Ranked 1st in chess competitions during both the 2nd and 3rd years of my\n",
      "School, Nigdi-Pune.\n",
      "academic journey.\n",
      "(2007 - 2018) - 69.00%\n",
      "Skills & Hobbies\n",
      "Auxilary Skills:\n",
      "Machine Learning and Deep Learning:\n",
      "DSA (Basics)\n",
      "Supervised Learning: (Linear & Logistics Regression, SVM, Decision-Tree and\n",
      "Cloud (AWS) Ensembles)\n",
      "Deep Learning (Fundamentals) Unsupervised Learning (K-Means, Hierarchical Clustering, and Dimensionality\n",
      "Reduction-Principal Component Analysis)\n",
      "Packaging & Containerization\n",
      "Neural Networks (CNN), NLP, and DL Frameworks (TensorFlow and Keras)\n",
      "Version Control Deployment & CI/CD Data Science:\n",
      "(Basics) Data Analysis & Visualization, Statistical Analysis & Modeling, Feature\n",
      "Engineering & Optimization Techniques.\n",
      "Collaborative and Adaptability\n",
      "MLOps:\n",
      "Problem-solving and Critical Thinking MLflow, Packaging, Version Control (Git), Docker, Jenkins, Prometheus and\n",
      "Inquisitive CI/CD Pipeline.\n",
      "Web Development, Programming Languages & Databases:\n",
      "Flask, FastAPI, Django, Data Structures & Algorithms (DSA), Python and\n",
      "MySQL\n",
      "Languages:\n",
      "Cloud:\n",
      "Amazon Web Services (EC2, S3, SageMaker, and others)\n",
      "English\n",
      "Hobbies\n",
      "Hindi and Marathi (Native)\n",
      "Avid Reader, Artist (sketching figures and objects)\n",
      "German, Spanish and Japanese\n",
      "Strategic Chess Player, Video/Board Games, Coding.\n",
      "(Novice) Listening and Creating Lo-fi tracks for fun on YouTube\n",
      "\n",
      "\n"
     ]
    }
   ],
   "source": [
    "import pdfplumber\n",
    "path = r'Resume\\Aaditya_Pandagle_Resume_2024.pdf'\n",
    "\n",
    "with pdfplumber.open(path) as pdf:\n",
    "  all_text = \"\"\n",
    "  # Below is for storing the extracted data in list \n",
    "  # extracted_text = []\n",
    "  for page in pdf.pages:\n",
    "    all_text += page.extract_text() + \"\\n\\n\"\n",
    "    # extracted_text.append(page.extract_text()) \n",
    "    \n",
    "print(all_text)"
   ]
  },
  {
   "cell_type": "code",
   "execution_count": 14,
   "metadata": {},
   "outputs": [
    {
     "data": {
      "text/markdown": [
       "`\n",
       "I'd be happy to help you organize your resume text. Here's a reorganized version with proper headings and formatting:\n",
       "\n",
       "**Aditya Pandagle**\n",
       "**Contact:**\n",
       "\n",
       "* Email: [adi.pandagle@gmail.com](mailto:adi.pandagle@gmail.com)\n",
       "* Phone: +91 79725 67926\n",
       "* LinkedIn: [insert LinkedIn link]\n",
       "* GitHub: [insert GitHub link]\n",
       "\n",
       "**Summary:**\n",
       "Fresher with a strong theoretical understanding of company systems and operations. Proficient in machine learning, data science, and operations. Explore my GitHub profile for project demos.\n",
       "\n",
       "**Education:**\n",
       "\n",
       "* Post Graduation Program in Data Science and Analytics, Imarticus Learning (Pune), 2023-2024\n",
       "* Bachelor's in Business Administration (Computer Application), Modern College of Commerce & Computer Studies, Savitribai Phule Pune University Affiliated, 2020-2023 (CGPA - 8.61)\n",
       "* Senior Secondary School - PDEA's Shri Mhalsakant Vidyalaya & Jr. College, 2018-2020\n",
       "* High School - S.P.M English Medium School, Nigdi-Pune, 2007-2018\n",
       "\n",
       "**Certifications and Achievements:**\n",
       "\n",
       "* Udemy: Python for Data Science and Machine Learning Bootcamp\n",
       "* Kaggle: Beginner and Intermediate Machine Learning\n",
       "* HackerRank: SQL Basic and Intermediate\n",
       "* Udemy: Python Data Structures and Algorithm\n",
       "* Udemy: Amazon Web Services - Solution Architect\n",
       "* Ranked 1st in chess competitions during academic years\n",
       "\n",
       "**Projects:**\n",
       "\n",
       "* Fraud Detection: Identify fraudulent activities within financial transactions using ML algorithms on authentic datasets.\n",
       "* Credit Risk Assessment: Assessing credit risk for loan applicants using predictive modeling.\n",
       "* House Rent Prediction: Using machine learning algorithms to predict house rent prices in India.\n",
       "* Customer Discount Offering Prediction: Predict which customers will likely receive discounts for targeted marketing.\n",
       "* Salary Prediction: Predicting individual salaries based on demographic and employment details.\n",
       "* Deep Learning: American Sign Language Detection\n",
       "* Django: Utilized Django to create a web-based diabetes prediction model.\n",
       "* MLOps Sandbox: MLOps Integration Testing (Docker, Jenkins, CI/CD)\n",
       "\n",
       "**Skills:**\n",
       "\n",
       "* **Machine Learning and Deep Learning:**\n",
       "\t+ Supervised Learning (Linear & Logistics Regression, SVM, Decision-Tree and Ensembles)\n",
       "\t+ Unsupervised Learning (K-Means, Hierarchical Clustering, and Dimensionality Reduction-Principal Component Analysis)\n",
       "\t+ Deep Learning (Neural Networks, NLP, and DL Frameworks - TensorFlow and Keras)\n",
       "* **Cloud and Containerization:**\n",
       "\t+ Amazon Web Services (EC2, S3, SageMaker, and others)\n",
       "\t+ Docker, Jenkins, Prometheus, and CI/CD Pipeline\n",
       "* **Web Development and Programming Languages:**\n",
       "\t+ Python, Flask, FastAPI, Django, Data Structures & Algorithms (DSA)\n",
       "\t+ MySQL\n",
       "* **Data Science:**\n",
       "\t+ Data Analysis & Visualization\n",
       "\t+ Statistical Analysis & Modeling\n",
       "\t+ Feature Engineering & Optimization Techniques\n",
       "* **Auxiliary Skills:**\n",
       "\t+ Collaboration and Adaptability\n",
       "\t+ Problem-solving and Critical Thinking\n",
       "\t+ Inquisitive\n",
       "\n",
       "**Hobbies:**\n",
       "\n",
       "* Avid Reader\n",
       "* Artist (sketching figures and objects)\n",
       "* Strategic Chess Player\n",
       "* Video/Board Games\n",
       "* Coding\n",
       "* Listening and Creating Lo-fi tracks for fun on YouTube\n",
       "\n",
       "**Languages:**\n",
       "\n",
       "* English\n",
       "* Hindi and Marathi (Native)\n",
       "* German, Spanish, and Japanese (Novice)\n",
       "`"
      ]
     },
     "metadata": {},
     "output_type": "display_data"
    }
   ],
   "source": [
    "get_llama_assistance(f'''I need your help to organize the Resume text, I extracted from a PDF:\n",
    "                    {all_text}''')"
   ]
  },
  {
   "cell_type": "code",
   "execution_count": 15,
   "metadata": {},
   "outputs": [],
   "source": [
    "jd_input = input(str())"
   ]
  },
  {
   "cell_type": "code",
   "execution_count": 20,
   "metadata": {},
   "outputs": [
    {
     "name": "stdout",
     "output_type": "stream",
     "text": [
      "Project Role : Data Science Practitioner Project Role Description : Formulating, design and deliver AI/ML-based decision-making frameworks and models for business outcomes. Measure and justify AI/ML based solution values. Must have skills : Microsoft Azure Machine Learning Good to have skills : NA Minimum 3 year(s) of experience is required Educational Qualification : 15 years of Education and necessary degree in engineering  Summary: As a Data Science Practitioner, you will be responsible for formulating, designing, and delivering AI/ML-based decision-making frameworks and models for business outcomes. Your typical day will involve working with Microsoft Azure Machine Learning, measuring and justifying AI/ML-based solution values, and collaborating with cross-functional teams to deliver impactful data-driven solutions. Roles & Responsibilities: - Lead the development and deployment of AI/ML-based decision-making frameworks and models using Microsoft Azure Machine Learning. - Conduct detailed analysis of complex data sets, employing statistical methodologies and data munging techniques for actionable insights, alongside a robust understanding of statistical analysis and machine learning algorithms. - Collaborate with cross-functional teams, applying expertise in diverse machine learning algorithms, including experience in implementing various algorithms such as linear regression, logistic regression, decision trees, and clustering algorithms. - Communicate technical findings effectively to stakeholders, utilizing data visualization tools for clarity. - Stay updated with the latest advancements in AI/ML and data science, integrating innovative approaches for sustained competitive advantage. Professional & Technical Skills: - Must To Have Skills: Proficiency in Microsoft Azure Machine Learning. - Good To Have Skills: Experience with TensorFlow, Natural Language Processing (NLP), and Big Data technologies. - Strong understanding of statistical analysis and machine learning algorithms. - Experience with data visualization tools such as Tableau or Power BI. - Experience in implementing various machine learning algorithms such as linear regression, logistic regression, decision trees, and clustering algorithms. - Solid grasp of data munging techniques, including data cleaning, transformation, and normalization to ensure data quality and integrity. Additional Information: - The candidate should have a minimum of 3 years of experience in Microsoft Azure Machine Learning. - The ideal candidate will possess a strong educational background in statistics, mathematics, computer science, or a related field, along with a proven track record of delivering impactful data-driven solutions. - This position is based at our Bengaluru office.   15 years of Education and necessary degree in engineering\n"
     ]
    }
   ],
   "source": [
    "print(jd_input)"
   ]
  },
  {
   "cell_type": "code",
   "execution_count": 17,
   "metadata": {},
   "outputs": [
    {
     "data": {
      "text/markdown": [
       "`\n",
       "The art of self-reflection! 🤔 Let's dissect your resume and the job description to identify areas of improvement.\n",
       "\n",
       "**What you're missing:**\n",
       "\n",
       "1. **Lack of direct work experience**: You're a fresher, which is okay. However, not having direct work experience might make it challenging to match the job requirement of 3+ years of experience.\n",
       "2. **Microsoft Azure Machine Learning expertise**: The job description specifically mentions Microsoft Azure Machine Learning as a 'must-have' skill. While you have a strong theoretical understanding, you might need to gain more experience with Azure ML to be competitive.\n",
       "3. **Statistical analysis and machine learning algorithms**: Although you mentioned statistical analysis and machine learning algorithms, the job description emphasizes rigorous understanding of statistical analysis and machine learning algorithms. You may need to dive deeper into these topics to advance your skills.\n",
       "\n",
       "**Improvement areas:**\n",
       "\n",
       "1. **Quantify your achievements**: While you've listed your projects, it's essential to quantify your achievements. For instance, you could mention the accuracy of your machine learning models or the impact of your projects.\n",
       "2. **Soft skills**: The job description highlights 'collaboration with cross-functional teams' as a key responsibility. Emphasize your ability to work with others, communicate technical findings effectively, and demonstrate adaptability.\n",
       "3. **Fill the gap between academic projects and industry readiness**: Your resume reveals a strong academic foundation, but bridge the gap to industry readiness by building projects that cater to real-world problems or participating in hackathons.\n",
       "\n",
       "**Master's guidance:**\n",
       "\n",
       "1. **Focus on building projects with Microsoft Azure Machine Learning**: Develop your skills with Azure ML to make your application more competitive.\n",
       "2. **Dive deeper into statistical analysis and machine learning algorithms**: Continuously educate yourself on the ever-evolving landscape of algorithms and statistical analysis.\n",
       "3. **Highlight transferable skills**: Emphasize any soft skills, extracurricular activities, or hobbies that demonstrate your adaptability, problem-solving abilities, and teamwork.\n",
       "4. **Tailor your resume to the job description**: Customize your resume to mirror the job requirements, highlighting the specific skills mentioned in the job post.\n",
       "5. **Consider taking certification courses or online courses**: Enroll in courses that focus on Azure ML, machine learning, and statistical analysis to further your skills and demonstrate your commitment to growth.\n",
       "\n",
       "By addressing these areas, you'll strengthen your profile and increase your chances of landing an interview! 🚀\n",
       "`"
      ]
     },
     "metadata": {},
     "output_type": "display_data"
    }
   ],
   "source": [
    "get_llama_assistance(f'''Can you compare this JD {jd_input}\n",
    "                     \n",
    "                     with this Resume {all_text}\n",
    "                     \n",
    "                     Help me identify what am I missing, what can be improved, as if you're a Master''')"
   ]
  }
 ],
 "metadata": {
  "kernelspec": {
   "display_name": "venv",
   "language": "python",
   "name": "python3"
  },
  "language_info": {
   "codemirror_mode": {
    "name": "ipython",
    "version": 3
   },
   "file_extension": ".py",
   "mimetype": "text/x-python",
   "name": "python",
   "nbconvert_exporter": "python",
   "pygments_lexer": "ipython3",
   "version": "3.12.0"
  }
 },
 "nbformat": 4,
 "nbformat_minor": 2
}
