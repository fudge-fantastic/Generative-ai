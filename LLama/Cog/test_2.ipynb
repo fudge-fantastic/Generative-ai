{
 "cells": [
  {
   "cell_type": "code",
   "execution_count": 19,
   "metadata": {},
   "outputs": [],
   "source": [
    "# desc\n",
    "# toc\n",
    "# meta title\n",
    "# meta desc\n",
    "# meta keywords"
   ]
  },
  {
   "cell_type": "code",
   "execution_count": 4,
   "metadata": {},
   "outputs": [],
   "source": [
    "import csv\n",
    "\n",
    "with open(\"Book1.csv\", \"r\") as csvfile:\n",
    "    reader = csv.reader(csvfile, delimiter=\",\"); titles = []\n",
    "    for row in reader:\n",
    "        title = row[0]; titles.append(title)"
   ]
  },
  {
   "cell_type": "code",
   "execution_count": 5,
   "metadata": {},
   "outputs": [],
   "source": [
    "import os\n",
    "import dotenv\n",
    "\n",
    "dotenv.load_dotenv()\n",
    "api_key = os.environ.get(\"GROQ_API_KEY\")\n",
    "\n",
    "if not api_key:\n",
    "    raise ValueError(\"GROQ_API_KEY environment variable not set\")"
   ]
  },
  {
   "cell_type": "code",
   "execution_count": 22,
   "metadata": {},
   "outputs": [],
   "source": [
    "first2titles = titles[:2]"
   ]
  },
  {
   "cell_type": "code",
   "execution_count": 2,
   "metadata": {},
   "outputs": [],
   "source": [
    "import json\n",
    "from groq import Groq\n",
    "\n",
    "def get_llama_assistance(prompt):\n",
    "    client = Groq(api_key=api_key)\n",
    "    completion = client.chat.completions.create(\n",
    "        model=\"llama3-70b-8192\",\n",
    "        messages=[\n",
    "            {\n",
    "                \"role\": \"user\",\n",
    "                \"content\": prompt,\n",
    "            },\n",
    "            {\n",
    "                \"role\": \"assistant\",\n",
    "                \"content\": \"\",\n",
    "            },\n",
    "        ],\n",
    "        temperature=1.4,\n",
    "        max_tokens=8192,\n",
    "        top_p=1,\n",
    "        stream=True,\n",
    "        stop=None,\n",
    "    )\n",
    "    response_text = \"\"\n",
    "    for chunk in completion:\n",
    "        response_text += chunk.choices[0].delta.content or \"\"\n",
    "    return response_text\n",
    "\n",
    "\n",
    "def generate_content(titles):\n",
    "    data = dict()  # Explicitly create an empty dictionary\n",
    "    for title in titles:\n",
    "        content_dict = {\"title\": title}\n",
    "        # Generate content for each item\n",
    "        content_dict[\"description\"] = get_llama_assistance(\n",
    "            f\"Write a compelling description for the title (Just Give Direct Answers): {title}\"\n",
    "        )\n",
    "        content_dict[\"table_of_contents\"] = get_llama_assistance(\n",
    "            f\"Generate a table of contents for content related to (Just Give Direct Answers): {title}\"\n",
    "        )\n",
    "        content_dict[\"meta_title\"] = get_llama_assistance(\n",
    "            f\"Create a meta title for content about (Just Give Direct Answers): {title}\"\n",
    "        )\n",
    "        content_dict[\"meta_description\"] = get_llama_assistance(\n",
    "            f\"Write a meta description summarizing content on (Just Give Direct Answers): {title}\"\n",
    "        )\n",
    "        content_dict[\"meta_keywords\"] = get_llama_assistance(\n",
    "            f\"Suggest relevant meta keywords for content related to (Just Give Direct Answers): {title}\"\n",
    "        )\n",
    "        data[title] = content_dict  # Store content with title as key\n",
    "    print(data)  \n",
    "\n",
    "    with open(\"generated_content.json\", \"w\") as outfile:\n",
    "        json.dump(data, outfile)"
   ]
  },
  {
   "cell_type": "code",
   "execution_count": null,
   "metadata": {},
   "outputs": [],
   "source": [
    "generate_content(first2titles)\n",
    "print(\"Content generation complete! Check generated_content.json file.\")"
   ]
  }
 ],
 "metadata": {
  "kernelspec": {
   "display_name": "venv",
   "language": "python",
   "name": "python3"
  },
  "language_info": {
   "codemirror_mode": {
    "name": "ipython",
    "version": 3
   },
   "file_extension": ".py",
   "mimetype": "text/x-python",
   "name": "python",
   "nbconvert_exporter": "python",
   "pygments_lexer": "ipython3",
   "version": "3.12.0"
  }
 },
 "nbformat": 4,
 "nbformat_minor": 2
}
