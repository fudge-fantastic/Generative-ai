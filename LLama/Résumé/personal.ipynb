{
 "cells": [
  {
   "cell_type": "code",
   "execution_count": 10,
   "metadata": {},
   "outputs": [],
   "source": [
    "import os\n",
    "import dotenv\n",
    "from groq import Groq\n",
    "from IPython.display import display_markdown\n",
    "\n",
    "dotenv.load_dotenv()\n",
    "api_key = os.environ.get(\"GROQ_API_KEY\")\n",
    "\n",
    "if not api_key:\n",
    "    raise ValueError(\"GROQ_API_KEY environment variable not set\")"
   ]
  },
  {
   "cell_type": "code",
   "execution_count": 11,
   "metadata": {},
   "outputs": [],
   "source": [
    "def get_llama_assistance(prompt):\n",
    "  client = Groq(api_key=api_key)\n",
    "  completion = client.chat.completions.create(\n",
    "      model=\"llama3-70b-8192\",\n",
    "      messages=[\n",
    "          {\n",
    "              \"role\": \"user\",\n",
    "              \"content\": prompt\n",
    "          },\n",
    "          {\n",
    "              \"role\": \"assistant\",\n",
    "              \"content\": \"\"\n",
    "          }\n",
    "      ],\n",
    "      temperature=1.4,\n",
    "      max_tokens=8192,\n",
    "      top_p=1,\n",
    "      stream=True,\n",
    "      stop=None,\n",
    "  )\n",
    "\n",
    "  response_text = \"\"\n",
    "\n",
    "  for chunk in completion:\n",
    "    response_text += chunk.choices[0].delta.content or \"\"\n",
    "\n",
    "  # Display the formatted response in markdown\n",
    "  display_markdown(f\"`\\n{response_text}\\n`\", raw=True)"
   ]
  },
  {
   "cell_type": "code",
   "execution_count": 12,
   "metadata": {},
   "outputs": [
    {
     "name": "stdout",
     "output_type": "stream",
     "text": [
      "ELIGIBILITY TO APPLY TO IMARTICUS CORPORATE RELATIONS (ICR)\n",
      "1. Students are eligible for placements post-completion of level 2 of the curriculum (Final Mock) or by formal signoff by the faculty and/or program managers\n",
      "2. Trainers will certify students for placement eligibility based on\n",
      "Assessment scores\n",
      "Mock interviews\n",
      "Viva scores\n",
      "Soft Skills Trainer sign-off\n",
      "Resume Readiness\n",
      "Overall, all discipline and conduct\n",
      "3. Minimum overall attendance should be 80%. Students below 80% attendance will not be eligible for placements\n",
      "4. Students should indemnify any administrative formalities and get a clearance from the Imarticus Administration and Finance department.\n",
      "AGREEMENT FOR PLACEMENT ASSISTANCE\n",
      "This agreement is made on Imarticus Placement Platform: SuperSet\n",
      "THIS AGREEMENT, between IMARTICUS and THE STUDENT, witnesses the mutual understanding and acceptance of the following terms\n",
      "IMARTICUS will provide the ICR Service to the Student via the SuperSet platform. Emails/mobile notifications and SMS will be sent to the registered email address & mobile number.\n",
      "The Student is solely responsible for continuously monitoring the SuperSet account to check positions /vacancies posted by IMARTICUS.\n",
      "To apply to the job openings students should log in to their SuperSet account through Laptop/desktop or Mobile App.\n",
      "Opportunities will be posted in the Job profile section of SuperSet.\n",
      "Each Student from the Placement Assured Program will be given five interview opportunities. If the student fails to be placed after 5 such attempts, he/she needs to go through an assessment and post clearing the assessment only will be rolled out in the placement pool again. For placement assistance programs we will be sharing public and private leads for job assistance\n",
      "A student who applies for a position and then backs out at any stage of the process without prior approval from the Placement team will be barred from placements\n",
      "A Student who is a “NO SHOW” at any scheduled interview will be barred from applying for any future job opportunities\n",
      "The Student is expected to conduct himself/herself ethically. Unethical behaviour such as cheating during the selection process or misrepresentation of facts in a resume will disqualify the student from placement\n",
      "As soon as the student receives the offer of employment with an Organization via the ICR service, the ICR service will be considered fulfilled and this contract will expire.\n",
      "Post the final mock if a particular student has been graded in T3, he/she doesn’t have an option to apply to the companies of their choice and will have to abide by the drives offered to them. However, a student has an option of improving their grades after another mock (Limited to 2).\n",
      "The Student can contact the placement coordinator of the Centre where he/she completed the course whenever he/she requires any clarification about the Organization or the Vacancy\n",
      "It shall be the responsibility of the Student to attend the interview on her/his own. Imarticus has no control over the outcome of the interview/selection process. Imarticus shall not be held responsible in the event the Student gets disqualified for selection for any vacancy, whatsoever the reason\n",
      "Upon receipt of an offer of employment, the Student will immediately inform IMARTICUS regarding details of her /his appointment and acceptance thereof\n",
      "In the event the student has not applied for any position for two months after signing the ICR, they will be contacted by email and phone at least twice to confirm their continued participation in the placement program. In the event of no response or confirmation from the student within three weeks, attempts will be made to contact the student again after which a registered letter will be sent to the permanent address of the Student terminating this contract\n",
      "In availing the ICR Service, the student hereby agrees and undertakes that during the period of this agreement and up to a minimum of 18 months from the day and date of signing of this agreement, he/she shall not: -\n",
      "(i) Defame IMARTICUS directly or indirectly and/or make any verbal, written or oral statements which can be construed as derogatory/defamatory pertaining to ‘IMARTICUS’ and the ‘COURSES’ conducted by ‘IMARTICUS’\n",
      "(ii) Share Course material, manuals, books and or photocopies of the same and/or disclose the same in any other manner, whatsoever to any other person (other than IMARTICUS’s students), organisation, firm, company or any other entity\n",
      "(iii) Start competitive activities either himself or through his family members, which includes but is not limited to similar business as that of ‘IMARTICUS’ directly, indirectly or in any manner,  in India and/or Abroad\n",
      "(iv) Disclose to any other person, (other than ‘IMARTICUS’s Students) or organisation, firm, company or any entity, whosoever, any information received by him/her from ‘IMARTICUS’ as part of ‘ Assistance Services provided by ‘IMARTICUS CORPORATE RELATIONS”, which includes Offer details, Salary figures but not limited to job vacancies in Investment Banks, KPO’s and other niche organizations in the BFSI domain\n",
      "(v) Indulge in any anti ‘IMARTICUS’ activity, whatsoever.\n",
      "16. The original copy of this agreement shall be retained by “IMARTICUS”\n",
      "17. This Agreement shall be construed and interpreted by the laws of India.\n",
      "Date :\t9th May 2024\n",
      "Place:\tIndia, Maharashtra, Pune\n",
      "Name :\tAaditya Pandagle\n",
      "Permanent Address:\tIndrayani HSC Society, Rupeenagar, Talawade-Road, Nigdi-Pune\n",
      "Batch No:\tPG-WD-47\n",
      "Signature :\n"
     ]
    }
   ],
   "source": [
    "from docx import Document\n",
    "\n",
    "def extract_text_from_docx(docx_file_path):\n",
    "    doc = Document(docx_file_path)\n",
    "    text_content = []\n",
    "    for paragraph in doc.paragraphs:\n",
    "        # Remove leading and trailing spaces from each line\n",
    "        line = paragraph.text.strip()\n",
    "        if line:  # Check if line is not empty after stripping\n",
    "            text_content.append(line)\n",
    "    return '\\n'.join(text_content)\n",
    "\n",
    "docx_file_path = 'ICR Agreement .docx'\n",
    "extracted_text = extract_text_from_docx(docx_file_path)\n",
    "print(extracted_text)"
   ]
  },
  {
   "cell_type": "code",
   "execution_count": 13,
   "metadata": {},
   "outputs": [
    {
     "name": "stdout",
     "output_type": "stream",
     "text": [
      "d:\\CODING\\Generative-AI\\LLama\\Gemini\\poppler-24.02.0\\Library\\bin\n"
     ]
    }
   ],
   "source": [
    "cwd = os.getcwd()\n",
    "path1 = os.path.dirname(cwd)\n",
    "poppler_path = os.path.join(path1, 'Gemini', 'poppler-24.02.0', 'Library', 'bin')\n",
    "print(poppler_path)"
   ]
  },
  {
   "cell_type": "code",
   "execution_count": 14,
   "metadata": {},
   "outputs": [],
   "source": [
    "# !pip install pdfquery\n",
    "# !pip install pdfplumber"
   ]
  },
  {
   "cell_type": "code",
   "execution_count": 15,
   "metadata": {},
   "outputs": [
    {
     "name": "stdout",
     "output_type": "stream",
     "text": [
      "Aaditya Pandagle\n",
      "+91 7972567926 • adi.pandagle@gmail.com • LinkedIn • Github\n",
      "DATA SCIENCE | MLOPS | GENERATIVE-AI\n",
      "Motivated and results-driven Data Scientist specializing in MLOps and Generative AI, seeking a position in a dynamic organization. The\n",
      "portfolio, available on GitHub, showcases a range of successful projects, highlighting my ability to analyze data, develop predictive\n",
      "models, and collaborate effectively within cross-functional teams.\n",
      "KEY COMPETENCIES\n",
      "Machine Learning & Deep Learning:\n",
      "Supervised Learning: (Linear & Logistics Regression, SVM, Decision-Tree and Ensembles) Unsupervised Learning (K-Means,\n",
      "Hierarchical Clustering, and Dimensionality Reduction-PCA)\n",
      "Neural Networks (ANN, CNN and RNN), NLP, and DL Frameworks (TensorFlow and Keras)\n",
      "Data Science:\n",
      "Data Analysis & Visualization, Statistical Analysis & Modeling, Feature Engineering & Optimization Techniques.\n",
      "Web Development, Machine Learning Operations (MLOps) and Programming Language:\n",
      "MLflow, Packaging, Version Control (Git), Docker, AWS, Jenkins, Prometheus and CI/CD Pipeline.\n",
      "Flask, FastAPI, Django, Data Structures & Algorithms (DSA), Python and MySQL\n",
      "Auxillary Skills:\n",
      "Cloud (AWS), Deep Learning (Fundamentals), Packaging and Containerization, Version Control (git), CI/CD (basics)\n",
      "Large Language Model integration (Gemini and LLama), Collaboration and Adaptability, Problem-solving and Inquisitive\n",
      "WORK AND PROJECTS\n",
      "Machine Learning and Deep Learning:\n",
      "Fraud Detection: Identify fraudulent activities within financial transactions using ML algorithms on authentic datasets.\n",
      "Credit Risk Assessment: Assessing credit risk for loan applicants using predictive modelling.\n",
      "House Rent Prediction: Using machine learning algorithms to predict house rent prices in India.\n",
      "Customer Discount Offering: Predict which customers will likely receive discounts for targeted marketing.\n",
      "American Sign Language Detection: Developed a model to recognize and interpret American Sign Language gestures for\n",
      "communication accessibility.\n",
      "Generative-AI:\n",
      "OCR-Gemini: Leveraged Tesseract for invoice text extraction and Gemini for data structuring the extracted data into JSON format.\n",
      "Resume-JD Analyzer: Implementing data extraction methods to input data into LLama3, facilitating analysis of both job descriptions\n",
      "(JD) and resumes.\n",
      "Query-Builder: Utilizing PostgreSQL as the database backend, extracting key content, and seamlessly integrating it into LLama3 for\n",
      "query generation and execution.\n",
      "Others:\n",
      "MLOps Sandbox: MLOps Integration Testing (Docker, Jenkins, CI/CD)\n",
      "Django: Utilized Django to create a web-based diabetes prediction model.\n",
      "EDUCATION\n",
      "Post-Graduation Program in Data Science and Analytics - Imarticus Learning (Pune) (2023 - 2024) (TBD)\n",
      "Bachelor's in Business Administration (Computer Application) Modern College of Commerce & Computer Studies; Savitribai Phule\n",
      "Pune University Affiliated. (2020 - 2023) CGPA - 8.61\n",
      "Senior Secondary School - PDEA's Shri Mhalsakant Vidyalaya & Jr. College. (2018 - 2020) - 55.69%\n",
      "High School - S.P.M English Medium School, Nigdi-Pune. (2007 - 2018) - 69.00%\n",
      "CERTIFICATIONS AND ACHIEVEMNETS\n",
      "Udemy: Python for Data Science and Machine Learning Bootcamp\n",
      "Kaggle - Beginner and Intermediate Machine Learning\n",
      "HackerRank - SQL Basic and Intermediate\n",
      "Udemy: Python Data Structures and Algorithm\n",
      "Udemy: Amazon Web Services - Solution Architect.\n",
      "Ranked 1st in chess competitions during both the 2nd and 3rd years of my academic journey.\n",
      "LANGUAGES\n",
      "English, Hindi and Marathi (Native), German and Japanese (Novice)\n",
      "3513\n"
     ]
    }
   ],
   "source": [
    "import pdfplumber\n",
    "import re\n",
    "\n",
    "def clean_text(text):\n",
    "    # Remove extra newlines and leading/trailing whitespace\n",
    "    text = re.sub(r'\\n\\s*\\n', '\\n\\n', text)  # Replace multiple newlines with a single newline\n",
    "    text = text.strip()  # Remove leading and trailing whitespace\n",
    "    return text\n",
    "\n",
    "path = r'Templates\\AP_Resume_2024.pdf'\n",
    "\n",
    "with pdfplumber.open(path) as pdf:\n",
    "    all_text = \"\"\n",
    "    for page in pdf.pages:\n",
    "        text = page.extract_text()\n",
    "        if text:\n",
    "            all_text += text + \"\\n\\n\"\n",
    "            \n",
    "all_text = clean_text(all_text)\n",
    "print(all_text)\n",
    "print(len(all_text))"
   ]
  },
  {
   "cell_type": "code",
   "execution_count": 16,
   "metadata": {},
   "outputs": [
    {
     "name": "stdout",
     "output_type": "stream",
     "text": [
      "Aaditya Pandagle\n",
      "+91 7972567926 • adi.pandagle@gmail.com • LinkedIn • Github\n",
      "DATA SCIENCE | MLOPS | GENERATIVE-AI\n",
      "Motivated and results-driven Data Scientist specializing in MLOps and Generative AI, seeking a position in a dynamic organization. The\n",
      "portfolio, available on GitHub, showcases a range of successful projects, highlighting my ability to analyze data, develop predictive\n",
      "models, and collaborate effectively within cross-functional teams.\n",
      "KEY COMPETENCIES\n",
      "Machine Learning & Deep Learning:\n",
      "Supervised Learning: (Linear & Logistics Regression, SVM, Decision-Tree and Ensembles) Unsupervised Learning (K-Means,\n",
      "Hierarchical Clustering, and Dimensionality Reduction-PCA)\n",
      "Neural Networks (ANN, CNN and RNN), NLP, and DL Frameworks (TensorFlow and Keras)\n",
      "Data Science:\n",
      "Data Analysis & Visualization, Statistical Analysis & Modeling, Feature Engineering & Optimization Techniques.\n",
      "Web Development, Machine Learning Operations (MLOps) and Programming Language:\n",
      "MLflow, Packaging, Version Control (Git), Docker, AWS, Jenkins, Prometheus and CI/CD Pipeline.\n",
      "Flask, FastAPI, Django, Data Structures & Algorithms (DSA), Python and MySQL\n",
      "Auxillary Skills:\n",
      "Cloud (AWS), Deep Learning (Fundamentals), Packaging and Containerization, Version Control (git), CI/CD (basics)\n",
      "Large Language Model integration (Gemini and LLama), Collaboration and Adaptability, Problem-solving and Inquisitive\n",
      "WORK AND PROJECTS\n",
      "Machine Learning and Deep Learning:\n",
      "Fraud Detection: Identify fraudulent activities within financial transactions using ML algorithms on authentic datasets.\n",
      "Credit Risk Assessment: Assessing credit risk for loan applicants using predictive modelling.\n",
      "House Rent Prediction: Using machine learning algorithms to predict house rent prices in India.\n",
      "Customer Discount Offering: Predict which customers will likely receive discounts for targeted marketing.\n",
      "American Sign Language Detection: Developed a model to recognize and interpret American Sign Language gestures for\n",
      "communication accessibility.\n",
      "Generative-AI:\n",
      "OCR-Gemini: Leveraged Tesseract for invoice text extraction and Gemini for data structuring the extracted data into JSON format.\n",
      "Resume-JD Analyzer: Implementing data extraction methods to input data into LLama3, facilitating analysis of both job descriptions\n",
      "(JD) and resumes.\n",
      "Query-Builder: Utilizing PostgreSQL as the database backend, extracting key content, and seamlessly integrating it into LLama3 for\n",
      "query generation and execution.\n",
      "Others:\n",
      "MLOps Sandbox: MLOps Integration Testing (Docker, Jenkins, CI/CD)\n",
      "Django: Utilized Django to create a web-based diabetes prediction model.\n",
      "EDUCATION\n",
      "Post-Graduation Program in Data Science and Analytics - Imarticus Learning (Pune) (2023 - 2024) (TBD)\n",
      "Bachelor's in Business Administration (Computer Application) Modern College of Commerce & Computer Studies; Savitribai Phule\n",
      "Pune University Affiliated. (2020 - 2023) CGPA - 8.61\n",
      "Senior Secondary School - PDEA's Shri Mhalsakant Vidyalaya & Jr. College. (2018 - 2020) - 55.69%\n",
      "High School - S.P.M English Medium School, Nigdi-Pune. (2007 - 2018) - 69.00%\n",
      "CERTIFICATIONS AND ACHIEVEMNETS\n",
      "Udemy: Python for Data Science and Machine Learning Bootcamp\n",
      "Kaggle - Beginner and Intermediate Machine Learning\n",
      "HackerRank - SQL Basic and Intermediate\n",
      "Udemy: Python Data Structures and Algorithm\n",
      "Udemy: Amazon Web Services - Solution Architect.\n",
      "Ranked 1st in chess competitions during both the 2nd and 3rd years of my academic journey.\n",
      "LANGUAGES\n",
      "English, Hindi and Marathi (Native), German and Japanese (Novice)\n",
      "\n",
      "\n",
      "3515\n"
     ]
    }
   ],
   "source": [
    "path = r'Templates\\AP_Resume_2024.pdf'\n",
    "\n",
    "with pdfplumber.open(path) as pdf:\n",
    "  all_text = \"\"\n",
    "  # Below is for storing the extracted data in list \n",
    "  # extracted_text = []\n",
    "  for page in pdf.pages:\n",
    "    all_text += page.extract_text() + \"\\n\\n\"\n",
    "    # extracted_text.append(page.extract_text()) \n",
    "    \n",
    "print(all_text)\n",
    "print(len(all_text))"
   ]
  },
  {
   "cell_type": "code",
   "execution_count": 17,
   "metadata": {},
   "outputs": [
    {
     "data": {
      "text/markdown": [
       "`\n",
       "I've organized and reformatted the text to improve readability and clarity. I've also added section headers and bullet points to make it easier to scan:\n",
       "\n",
       "**Aaditya Pandagle**\n",
       "```\n",
       "Contact Information:\n",
       "+91 7972567926 • adi.pandagle@gmail.com • LinkedIn • Github\n",
       "```\n",
       "\n",
       "**Summary**\n",
       "Motivated and results-driven Data Scientist specializing in MLOps and Generative AI, seeking a position in a dynamic organization. The portfolio, available on GitHub, showcases a range of successful projects, highlighting my ability to analyze data, develop predictive models, and collaborate effectively within cross-functional teams.\n",
       "\n",
       "**Key Competencies**\n",
       "\n",
       "* **Machine Learning & Deep Learning**:\n",
       "\t+ Supervised Learning: Linear & Logistics Regression, SVM, Decision-Tree, Ensembles)\n",
       "\t+ Unsupervised Learning: K-Means, Hierarchical Clustering, Dimensionality Reduction (PCA)\n",
       "\t+ Neural Networks: ANN, CNN, RNN\n",
       "\t+ NLP, DL Frameworks: TensorFlow, Keras\n",
       "* **Data Science**:\n",
       "\t+ Data Analysis & Visualization\n",
       "\t+ Statistical Analysis & Modeling\n",
       "\t+ Feature Engineering & Optimization Techniques\n",
       "* **Web Development & MLOps**:\n",
       "\t+ MLflow, Packaging, Version Control (Git), Docker, AWS, Jenkins, Prometheus, CI/CD Pipeline\n",
       "\t+ Flask, FastAPI, Django, Data Structures & Algorithms (DSA), Python, MySQL\n",
       "* **Auxillary Skills**:\n",
       "\t+ Cloud (AWS)\n",
       "\t+ Deep Learning (Fundamentals)\n",
       "\t+ Packaging and Containerization\n",
       "\t+ Version Control (git)\n",
       "\t+ CI/CD (basics)\n",
       "\t+ Large Language Model integration (Gemini and LLama)\n",
       "\t+ Collaboration and Adaptability, Problem-solving, and Inquisitive\n",
       "\n",
       "**Work and Projects**\n",
       "\n",
       "* **Machine Learning and Deep Learning**:\n",
       "\t+ Fraud Detection\n",
       "\t+ Credit Risk Assessment\n",
       "\t+ House Rent Prediction\n",
       "\t+ Customer Discount Offering\n",
       "\t+ American Sign Language Detection\n",
       "* **Generative-AI**:\n",
       "\t+ OCR-Gemini\n",
       "\t+ Resume-JD Analyzer\n",
       "\t+ Query-Builder\n",
       "* **Others**:\n",
       "\t+ MLOps Sandbox (Docker, Jenkins, CI/CD)\n",
       "\t+ Django (web-based diabetes prediction model)\n",
       "\n",
       "**Education**\n",
       "\n",
       "* **Post-Graduation Program in Data Science and Analytics**, Imarticus Learning (Pune), 2023-2024 (TBD)\n",
       "* **Bachelor's in Business Administration (Computer Application)**, Modern College of Commerce & Computer Studies; Savitribai Phule Pune University, 2020-2023, CGPA - 8.61\n",
       "* **Senior Secondary School**, PDEA's Shri Mhalsakant Vidyalaya & Jr. College., 2018-2020, 55.69%\n",
       "* **High School**, S.P.M English Medium School, Nigdi-Pune, 2007-2018, 69.00%\n",
       "\n",
       "**Certifications and Achievements**\n",
       "\n",
       "* **Udemy**: Python for Data Science and Machine Learning Bootcamp\n",
       "* **Kaggle**: Beginner and Intermediate Machine Learning\n",
       "* **HackerRank**: SQL Basic and Intermediate\n",
       "* **Udemy**: Python Data Structures and Algorithm\n",
       "* **Udemy**: Amazon Web Services - Solution Architect\n",
       "* **Ranked 1st in chess competitions**, 2nd and 3rd years of academic journey\n",
       "\n",
       "**Languages**\n",
       "\n",
       "* English, Hindi, and Marathi (Native)\n",
       "* German and Japanese (Novice)\n",
       "`"
      ]
     },
     "metadata": {},
     "output_type": "display_data"
    }
   ],
   "source": [
    "get_llama_assistance(f'''I need your help to organize the Resume text, I extracted from a PDF and review:\n",
    "                    {all_text}''')"
   ]
  },
  {
   "cell_type": "code",
   "execution_count": 18,
   "metadata": {},
   "outputs": [],
   "source": [
    "jd_input = input(str())"
   ]
  },
  {
   "cell_type": "code",
   "execution_count": 19,
   "metadata": {},
   "outputs": [
    {
     "name": "stdout",
     "output_type": "stream",
     "text": [
      "None\n"
     ]
    }
   ],
   "source": [
    "print(jd_input)"
   ]
  },
  {
   "cell_type": "code",
   "execution_count": 20,
   "metadata": {},
   "outputs": [
    {
     "data": {
      "text/markdown": [
       "`\n",
       "My dear grasshopper, Aaditya Pandagle, I shall guide you through the ways of the resume Jedi Master.\n",
       "\n",
       "**Strengths:**\n",
       "\n",
       "1. **Clear and concise format**: Your resume is easy to scan, and the formatting is clean and visually appealing.\n",
       "2. **Key Competencies**: You've clearly highlighted your technical skills, which is essential for a Data Scientist role.\n",
       "3. **Project Variety**: Your projects showcase a range of skills and applications, demonstrating your versatility and ability to adapt to different areas of Data Science.\n",
       "4. **Education and Certifications**: You've included relevant education and certifications that support your career goals.\n",
       "\n",
       "**Areas for Improvement:**\n",
       "\n",
       "1. **Summary/Objective**: Your objective statement is brief, but it could be more impactful. Consider rewriting it to better capture your unique value proposition and career goals.\n",
       "2. **Bullet Points**: While you've listed projects, some bullet points are lengthy. Consider rephrasing them for better readability and impact.\n",
       "3. **Quantifiable Results**: Try to include specific metrics or percentages to demonstrate the impact of your projects. This will help you stand out from other candidates.\n",
       "4. **Auxiliary Skills**: You've listed several auxiliary skills, but try to prioritize the most relevant ones and remove the less important ones to avoid diluting your core strengths.\n",
       "\n",
       "**Master's Advice:**\n",
       "\n",
       "1. **Add relevant tools and technologies**: Consider adding relevant tools like Jupyter, NumPy, Pandas, or Matplotlib to showcase your proficiency.\n",
       "2. **Highlight soft skills**: As a Data Scientist, you'll work with diverse stakeholders. Highlighting soft skills like communication, teamwork, and collaboration can set you apart.\n",
       "3. **Personal Projects**: Consider adding personal projects that demonstrate your enthusiasm for Data Science and creativity.\n",
       "4. **Case Studies**: Transform some of your projects into concise case studies, highlighting the problem, your approach, and the outcome.\n",
       "\n",
       "**The Force is Strong With You, Trainee!**\n",
       "\n",
       "Your resume showcases a strong foundation, and by addressing the areas for improvement, you'll increase your chances of attracting the attention of hiring managers. May the force of Data Science be with you!\n",
       "`"
      ]
     },
     "metadata": {},
     "output_type": "display_data"
    }
   ],
   "source": [
    "get_llama_assistance(f'''Can you compare this JD {jd_input}\n",
    "                     \n",
    "                     with this Resume {all_text}\n",
    "                     \n",
    "                     Help me identify what am I missing, what can be improved, as if you're a Master''')"
   ]
  }
 ],
 "metadata": {
  "kernelspec": {
   "display_name": "venv",
   "language": "python",
   "name": "python3"
  },
  "language_info": {
   "codemirror_mode": {
    "name": "ipython",
    "version": 3
   },
   "file_extension": ".py",
   "mimetype": "text/x-python",
   "name": "python",
   "nbconvert_exporter": "python",
   "pygments_lexer": "ipython3",
   "version": "3.12.0"
  }
 },
 "nbformat": 4,
 "nbformat_minor": 2
}
