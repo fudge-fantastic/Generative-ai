{
 "cells": [
  {
   "cell_type": "code",
   "execution_count": 22,
   "metadata": {},
   "outputs": [],
   "source": [
    "import os\n",
    "import dotenv\n",
    "from groq import Groq\n",
    "from IPython.display import display_markdown\n",
    "\n",
    "dotenv.load_dotenv()\n",
    "api_key = os.environ.get(\"GROQ_API_KEY\")\n",
    "\n",
    "if not api_key:\n",
    "    raise ValueError(\"GROQ_API_KEY environment variable not set\")"
   ]
  },
  {
   "cell_type": "code",
   "execution_count": 33,
   "metadata": {},
   "outputs": [],
   "source": [
    "def get_llama_assistance(prompt):\n",
    "  client = Groq(api_key=api_key)\n",
    "  completion = client.chat.completions.create(\n",
    "      model=\"llama3-70b-8192\",\n",
    "      messages=[\n",
    "          {\n",
    "              \"role\": \"user\",\n",
    "              \"content\": \"(Answer in markdown format)\" + prompt\n",
    "          },\n",
    "          {\n",
    "              \"role\": \"assistant\",\n",
    "              \"content\": \"\"\n",
    "          }\n",
    "      ],\n",
    "      temperature=1.4,\n",
    "      max_tokens=8192,\n",
    "      top_p=1,\n",
    "      stream=True,\n",
    "      stop=None,\n",
    "  )\n",
    "\n",
    "  response_text = \"\"\n",
    "\n",
    "  for chunk in completion:\n",
    "    response_text += chunk.choices[0].delta.content or \"\"\n",
    "\n",
    "  # Display the formatted response in markdown\n",
    "  display_markdown(f\"{response_text}\", raw=True)"
   ]
  },
  {
   "cell_type": "code",
   "execution_count": 34,
   "metadata": {},
   "outputs": [
    {
     "data": {
      "text/markdown": [
       "**Yes, I can take a CSV file as an input!**\n",
       "\n",
       "You can provide a CSV file as a string, and I can help you work with it. For example, you can paste the contents of your CSV file, and I can assist you with tasks such as:\n",
       "\n",
       "* Performing data analysis\n",
       "* Data visualization\n",
       "* Data manipulation\n",
       "* and more!\n",
       "\n",
       "**Here's an example of how a table looks:**\n",
       "\n",
       "| **Column 1** | **Column 2** | **Column 3** |\n",
       "| --- | --- | --- |\n",
       "| Cell 1 | Cell 2 | Cell 3 |\n",
       "| Cell 4 | Cell 5 | Cell 6 |\n",
       "| Cell 7 | Cell 8 | Cell 9 |\n",
       "\n",
       "In the example above, the table has three columns (`Column 1`, `Column 2`, and `Column 3`) and three rows of data. Each cell contains a value, such as `Cell 1`, `Cell 2`, and so on.\n",
       "\n",
       "Feel free to provide your CSV file, and I'll do my best to assist you!"
      ]
     },
     "metadata": {},
     "output_type": "display_data"
    }
   ],
   "source": [
    "get_llama_assistance(\"Can you take a CSV file as a input? Can you show me how a table looks?\")"
   ]
  },
  {
   "cell_type": "code",
   "execution_count": 37,
   "metadata": {},
   "outputs": [
    {
     "data": {
      "text/markdown": [
       "**Median of Two Sorted Arrays**\n",
       "=============================\n",
       "\n",
       "Here's a Python code to find the median of two sorted arrays:\n",
       "```python\n",
       "def find_median_merged(arr1, arr2):\n",
       "    \"\"\"\n",
       "    Find the median of two sorted arrays.\n",
       "\n",
       "    :param arr1: First sorted array\n",
       "    :param arr2: Second sorted array\n",
       "    :return: Median of the merged array\n",
       "    \"\"\"\n",
       "    # Merge the two sorted arrays\n",
       "    merged = sorted(arr1 + arr2)\n",
       "\n",
       "    # Calculate the length of the merged array\n",
       "    n = len(merged)\n",
       "\n",
       "    # If the length is even, the median is the average of the two middle elements\n",
       "    if n % 2 == 0:\n",
       "        median = (merged[n // 2 - 1] + merged[n // 2]) / 2\n",
       "    # If the length is odd, the median is the middle element\n",
       "    else:\n",
       "        median = merged[n // 2]\n",
       "\n",
       "    return median\n",
       "```\n",
       "**Example Usage**\n",
       "---------------\n",
       "\n",
       "```python\n",
       "arr1 = [1, 3, 5]\n",
       "arr2 = [2, 4, 6]\n",
       "\n",
       "median = find_median_merged(arr1, arr2)\n",
       "print(median)  # Output: 4\n",
       "```\n",
       "**Time Complexity**\n",
       "------------------\n",
       "\n",
       "The time complexity of this code is O(n log n), where n is the total length of the two input arrays. This is because we're using the `sorted` function to merge the arrays, which has a time complexity of O(n log n).\n",
       "\n",
       "**Space Complexity**\n",
       "------------------\n",
       "\n",
       "The space complexity of this code is O(n), where n is the total length of the two input arrays. This is because we're creating a new merged array to store the combined elements."
      ]
     },
     "metadata": {},
     "output_type": "display_data"
    }
   ],
   "source": [
    "user_prompt = \"Write a Python code to find the median of two sorted arrays\"\n",
    "get_llama_assistance(user_prompt)"
   ]
  },
  {
   "cell_type": "code",
   "execution_count": 38,
   "metadata": {},
   "outputs": [
    {
     "data": {
      "text/markdown": [
       "### The Little Almond with a Big Dream\n",
       "====================================================================\n",
       "\n",
       "In a bustling farmers' market, surrounded by vibrant fruits and vegetables, a small, plump almond named Alma felt like a tiny but vital part of something bigger. Amidst the hustle and bustle, Alma dreamed of becoming more than just a snack or ingredient. She yearned to make a difference in the world.\n",
       "\n",
       "### A Humble Beginning\n",
       "----------\n",
       "\n",
       "Alma grew in the sun-kissed orchards of California, surrounded by thousands of her siblings. As she matured, she began to realize that her purpose went beyond just being eaten or used in baking. She longed to bring people together, to spread joy and warmth.\n",
       "\n",
       "### The Journey Begins\n",
       "-------------\n",
       "\n",
       "One day, a gentle breeze carried Alma away from the farm, and she found herself in a small bakery. She saw an opportunity to make a difference and volunteered to be part of a batch of warm cookies. As she baked in the oven, Alma's sweetness and butteriness infused the dough, filling the air with an irresistible aroma.\n",
       "\n",
       "### Spreading Joy\n",
       "-------------\n",
       "\n",
       "As the cookies were distributed, Alma watched as strangers became friends, bonding over the tasty treats. Children giggled, seniors smiled, and coworkers collaborated, all thanks to the simple act of sharing a delicious cookie. Alma beamed with pride, knowing she'd finally found her purpose: spreading love and unity, one cookie at a time.\n",
       "\n",
       "### A Legacy Born\n",
       "----------------\n",
       "\n",
       "Years passed, and Alma's cookies became legendary, attracting visitors from far and wide. People came not only for the taste but for the sense of community Alma had created. As the bakery grew, so did Alma's impact. She inspired others to follow their hearts and pursue their passions, leaving a legacy of love, kindness, and – of course – delicious baked goods.\n",
       "\n",
       "And so, the little almond that could grew into a symbol of hope, proof that even the smallest among us can make a big difference."
      ]
     },
     "metadata": {},
     "output_type": "display_data"
    }
   ],
   "source": [
    "user_prompt = \"Can you write a cute story on an a almond\"\n",
    "get_llama_assistance(user_prompt)"
   ]
  },
  {
   "cell_type": "code",
   "execution_count": 39,
   "metadata": {},
   "outputs": [
    {
     "data": {
      "text/markdown": [
       "### Cuteness Overload Table\n",
       "\n",
       "| **Creature** | **Description** | **Cute Level** |\n",
       "| --- | --- | --- |\n",
       "| **Kitten** | Fluffy, whiskered, purring balls of joy | (10/10) |\n",
       "| **Unicorn** | Magical, sparkly, rainbow-poopingfriends | (9/10) |\n",
       "| **Pomeranian** | Tiny, fluffy, booty-shaking dogs | (8.5/10) |\n",
       "| **Penguin** | Waddling, tuxedo-wearing, fish-loving champions | (8/10) |\n",
       "| **Corgi** | Short, stubby, sassy, snuggly overloads | (9.5/10) |\n",
       "| **Narwhal** | Arctic, bewhiskered, sea unicorns | (8.5/10) |\n",
       "| **Fennec Fox** | Oversized-eared, curious, desert charmers | (9/10) |\n",
       "| **Meerkat** | Standing, sentry-duty doers, cute troops | (8/10) |\n",
       "\n",
       "Note: Cuteness levels are subjective and rated by a highly scientific, totally-not-made-up cute-ometer."
      ]
     },
     "metadata": {},
     "output_type": "display_data"
    }
   ],
   "source": [
    "get_llama_assistance(\"Can you show me any random table with cute stuff?\")"
   ]
  },
  {
   "cell_type": "code",
   "execution_count": 40,
   "metadata": {},
   "outputs": [
    {
     "data": {
      "text/markdown": [
       "**Creating a Killer Portfolio as a Data Scientist**\n",
       "======================================================\n",
       "\n",
       "**Why You Need a Portfolio**\n",
       "--------------------------\n",
       "A portfolio is essential for data scientists to showcasing their skills, experience, and accomplishments to potential employers, collaborators, or clients. It helps to differentiate yourself from others, demonstrating your capabilities and versatility in data science.\n",
       "\n",
       "**Choosing the Right Projects**\n",
       "-----------------------------\n",
       "### Quantifiable Impact\n",
       "Select projects that demonstrate your ability to drive business value, improve processes, or solve complex problems.\n",
       "\n",
       "### Diverse Skills Display\n",
       "Include projects that showcase your skills in various areas, such as:\n",
       "\n",
       "* **Machine Learning**: Demonstrate your expertise in building and deploying models, including regression, classification, clustering, etc.\n",
       "* **Data Visualization**: Highlight your ability to effectively communicate insights and findings using interactive dashboards, reporting, or storytelling.\n",
       "* **Data Wrangling**: Showcase your skills in data cleaning, preprocessing, and feature engineering.\n",
       "* **Domain Expertise**: Highlight projects that demonstrate your understanding of specific industries or domains, such as finance, healthcare, or marketing.\n",
       "\n",
       "**Portfolio Structure and Content**\n",
       "--------------------------------\n",
       "### Use Cases\n",
       "Include a brief description of the problem statement, your role, and the technology stacks used in each project.\n",
       "\n",
       "### Visual Storytelling\n",
       "Use images, diagrams, flowcharts, or interactive visualizations to illustrate your process and results.\n",
       "\n",
       "### Takeaways and Insights\n",
       "Highlight key findings, insights, and implications of your work.\n",
       "\n",
       "### Code Showcase ( Optional )\n",
       "Consider sharing snippets of your clean, commented, and well-structured code to demonstrate your programming skills.\n",
       "\n",
       "**Best Practices for Online Presence**\n",
       "-------------------------------------\n",
       "### **GitHub** or **GitLab**:\n",
       "Host your projects on a version control platform to demonstrate your coding skills and collaboration capabilities.\n",
       "\n",
       "### **Blog** or **Medium**:\n",
       "Write about your experiences, lessons learned, and insights from your projects.\n",
       "\n",
       "### **Tableau** or **Plotly**:\n",
       "Use data visualization tools to create interactive dashboards and share them online.\n",
       "\n",
       "**Design and Organization**\n",
       "---------------------------\n",
       "### Clear Navigation\n",
       "Make it easy for visitors to explore your projects and find relevant information.\n",
       "\n",
       "### Concise Descriptions\n",
       "Use brief summaries to provide context for each project.\n",
       "\n",
       "### Visual Hierarchy\n",
       "Use headings, images, and whitespace to create a clean and scannable layout.\n",
       "\n",
       "**Final Tips**\n",
       "--------------\n",
       "\n",
       "* **Regularly Update**: Add new projects and iterations to demonstrate growth and versatility.\n",
       "* **Make itAccessible**: Ensure your portfolio is accessible on various devices and browsers.\n",
       "* **Get Feedback**: Share your portfolio with colleagues, mentors, or peers to gather constructive feedback.\n",
       "\n",
       "By following these guidelines, you'll be well on your way to creating a standout portfolio that showcases your skills and experience as a data scientist!"
      ]
     },
     "metadata": {},
     "output_type": "display_data"
    }
   ],
   "source": [
    "get_llama_assistance(\"Dude can you give me some tips to create a better portfolio? (as a data scientist)\")"
   ]
  },
  {
   "cell_type": "code",
   "execution_count": 41,
   "metadata": {},
   "outputs": [
    {
     "data": {
      "text/markdown": [
       "**Reverse Nodes in k-Group**\n",
       "===========================\n",
       "\n",
       "**LeetCode Problem Statement:**\n",
       "-------------------------\n",
       "\n",
       "Given a linked list, reverse the nodes of k-group and return its modified list. k is a positive integer and is less than the length of the linked list.\n",
       "\n",
       "**Example:**\n",
       "---------\n",
       "\n",
       "```\n",
       "Input: 1->2->3->4->5\n",
       "k = 2\n",
       "Output: 2->1->4->3->5\n",
       "```\n",
       "\n",
       "**Code Solution:**\n",
       "-------------\n",
       "\n",
       "Here is the code in Python:\n",
       "```python\n",
       "# Definition for singly-linked list.\n",
       "# class ListNode:\n",
       "#     def __init__(self, val=0, next=None):\n",
       "#         self.val = val\n",
       "#         self.next = next\n",
       "class Solution:\n",
       "    def reverseKGroup(self, head: ListNode, k: int) -> ListNode:\n",
       "        def reverse(a, b):\n",
       "            pre = None\n",
       "            curr = a\n",
       "            while curr != b:\n",
       "                tmp = curr.next\n",
       "                curr.next = pre\n",
       "                pre = curr\n",
       "                curr = tmp\n",
       "            return pre\n",
       "\n",
       "        dummy = ListNode(0)\n",
       "        dummy.next = head\n",
       "        pre = dummy\n",
       "        cur = head\n",
       "        count = 0\n",
       "        while cur and count < k:\n",
       "            cur = cur.next\n",
       "            count += 1\n",
       "\n",
       "        if count == k:\n",
       "            cur = pre.next\n",
       "            pre.next = reverse(pre.next, cur.next)\n",
       "            cur.next = cur.next\n",
       "            pre = cur\n",
       "            cur = cur.next\n",
       "\n",
       "        return dummy.next\n",
       "```\n",
       "\n",
       "**Explanation:**\n",
       "-------------\n",
       "\n",
       "*   We create a `dummy` node that points to the head of the list. This makes it easier to handle the edge case where we reverse the first k nodes.\n",
       "*   We initialize `pre` to the `dummy` node and `cur` to the head of the list. We also initialize a `count` variable to keep track of the number of nodes we've traversed.\n",
       "*   We traverse the list in chunks of k nodes. If we can traverse k nodes, we reverse them by calling the `reverse` function.\n",
       "*   The `reverse` function takes two nodes as parameters. It reverses the nodes between these two nodes and returns the new head of the reversed nodes.\n",
       "*   After reversing the nodes, we update the `pre` and `cur` pointers to continue the traversal from the next node.\n",
       "*   The outer loop continues until we've traversed the entire list, and the final result is `dummy.next`.\n",
       "\n",
       "**Time Complexity:**\n",
       "--------------\n",
       "\n",
       "The time complexity is O(n) where n is the number of nodes in the linked list."
      ]
     },
     "metadata": {},
     "output_type": "display_data"
    }
   ],
   "source": [
    "get_llama_assistance(\"I need a code for Reverse Nodes in k-Group\")"
   ]
  },
  {
   "cell_type": "code",
   "execution_count": 42,
   "metadata": {},
   "outputs": [
    {
     "data": {
      "text/markdown": [
       "**Project Ideas in Deep Learning and NLP (excluding XAI)**\n",
       "============================================================\n",
       "\n",
       "### Artificial Neural Networks (ANN)\n",
       "\n",
       "1. **Image Classification**: Implement a convolutional neural network for classifying images into different categories.\n",
       "2. **Speech Recognition**: Develop a neural network for recognizing spoken words and transcription.\n",
       "3. **Recommendation System**: Create a neural network-based recommendation system for personalized product suggestions.\n",
       "4. **Sentiment Analysis**: Train an ANN to analyze customer reviews and determine the sentiment (positive, negative, or neutral).\n",
       "\n",
       "### Convolutional Neural Networks (CNN)\n",
       "\n",
       "1. **Object Detection**: Implement a CNN-based object detection model for detecting objects in images and videos.\n",
       "2. **Image Segmentation**: Develop a CNN for image segmentation, separating objects of interest from the background.\n",
       "3. **3D Reconstruction**: Create a CNN-based 3D reconstruction model from 2D images or videos.\n",
       "4. **Facial Recognition**: Train a CNN for facial recognition and verify identities.\n",
       "\n",
       "### Recurrent Neural Networks (RNN)\n",
       "\n",
       "1. **Language Translation**: Implement an RNN-based language translation model for translating text from one language to another.\n",
       "2. **Time Series Prediction**: Develop an RNN model for predicting stock prices, weather, or other time-series data.\n",
       "3. **Chatbot**: Create an RNN-powered chatbot for customer support or entertainment.\n",
       "4. **Sentiment Analysis**: Train an RNN to analyze text data and determine the sentiment.\n",
       "\n",
       "### Natural Language Processing (NLP)\n",
       "\n",
       "1. **Named Entity Recognition**: Implement an NLP model for identifying named entities (people, places, organizations) in text data.\n",
       "2. **Text Summarization**: Develop an NLP model for summarizing long documents, articles, or web pages.\n",
       "3. **Question Answering**: Train an NLP model to answer questions based on context or passage.\n",
       "4. **Part-of-Speech Tagging**: Create an NLP model for identifying parts of speech (nouns, verbs, adjectives, etc.) in text data.\n",
       "\n",
       "### Autoencoders\n",
       "\n",
       "1. **Anomaly Detection**: Implement an autoencoder-based anomaly detection model for identifying outliers or abnormal data.\n",
       "2. **Dimensionality Reduction**: Develop an autoencoder for reducing high-dimensional data into lower dimensions.\n",
       "3. **Data Compression**: Train an autoencoder for compressing data and reducing storage size.\n",
       "4. **Generative Modeling**: Create an autoencoder-based generative model for generating new, synthetic data.\n",
       "\n",
       "These project ideas are just a starting point. Feel free to modify, combine, or extend them to suit your interests and goals. Good luck with your projects! 😊"
      ]
     },
     "metadata": {},
     "output_type": "display_data"
    }
   ],
   "source": [
    "get_llama_assistance(\"Provide comphrehensive list of projects on these subjects (ANN, CNN, RNN, NLP, or AutoEncoders and exclude XAI) that are worth deploying.\")"
   ]
  },
  {
   "cell_type": "code",
   "execution_count": 44,
   "metadata": {},
   "outputs": [
    {
     "data": {
      "text/markdown": [
       "### What is RAG in Terms of AI?\n",
       "\n",
       "RAG is an acronym that stands for **R**etriever, **A**ugment, **G**enerator. It is a type of artificial intelligence (AI) model architecture that is designed for tasks that require generating text based on a given input or prompt.\n",
       "\n",
       "The RAG model combines the strengths of three different AI models:\n",
       "\n",
       "### Retriever\n",
       "The Retriever is a model that searches through a database or knowledge base to find relevant information related to the input prompt. This model is responsible for retrieving the most relevant pieces of information that are needed to generate a response.\n",
       "\n",
       "### Augment\n",
       "The Augment model takes the output from the Retriever and augments it with additional information that may not be immediately apparent from the input prompt. This model is responsible for filling in gaps in the information and providing context to generate a more complete and coherent response.\n",
       "\n",
       "### Generator\n",
       "The Generator model takes the augmented information and uses it to generate a human-like response to the input prompt. This model is responsible for producing a coherent and natural-sounding response that is based on the input and the augmented information.\n",
       "\n",
       "Together, the Retriever, Augment, and Generator models form a powerful AI architecture that can be used for a wide range of natural language processing tasks, including but not limited to:\n",
       "\n",
       "* Answering complex questions\n",
       "* Generating descriptions of entities\n",
       "* Summarizing large documents\n",
       "* Generating chatbot responses\n",
       "\n",
       "Overall, RAG is a powerful AI architecture that has the potential to revolutionize the way we interact with machines and generate human-like responses to complex inputs."
      ]
     },
     "metadata": {},
     "output_type": "display_data"
    }
   ],
   "source": [
    "get_llama_assistance(\"What is RAG? in terms of AI?\")"
   ]
  },
  {
   "cell_type": "code",
   "execution_count": 45,
   "metadata": {},
   "outputs": [
    {
     "data": {
      "text/markdown": [
       "**Recommendation Systems: A Comprehensive List**\n",
       "==============================================\n",
       "\n",
       "Recommendation systems are a subclass of information filtering systems that seek to provide personalized recommendations to users based on their past behavior, preferences, or other attributes. Here's a comprehensive list of recommendation systems:\n",
       "\n",
       "### 1. **Content-Based Filtering (CBF)**\n",
       "Recommendations based on similarities between items.\n",
       "\n",
       "### 2. **Collaborative Filtering (CF)**\n",
       "Recommendations based on user behavior and interactions.\n",
       "\n",
       "### 3. **Hybrid Recommendation Systems**\n",
       "Combines multiple techniques to leverage their strengths.\n",
       "\n",
       "### 4. **Knowledge-Based Systems**\n",
       "Recommendations based on explicit knowledge about users and items.\n",
       "\n",
       "### 5. **Demographic-Based Systems**\n",
       "Recommendations based on demographic characteristics of users.\n",
       "\n",
       "### 6. **Context-Aware Systems**\n",
       "Recommendations that take into account contextual information.\n",
       "\n",
       "### 7. **Matrix Factorization (MF)**\n",
       "Method for reducing the dimensionality of large matrices.\n",
       "\n",
       "### 8. **Tag-Based Systems**\n",
       "Recommendations based on tags or keywords associated with items.\n",
       "\n",
       "### 9. **Graph-Based Systems**\n",
       "Recommendations that exploit the graph structure of user-item interactions.\n",
       "\n",
       "### 10. **Reinforcement Learning-Based Systems**\n",
       "Recommendations that use reinforcement learning to learn from user feedback.\n",
       "\n",
       "### 11. **Evolutionary Algorithms-Based Systems**\n",
       "Recommendations that use evolutionary algorithms to optimize recommendations.\n",
       "\n",
       "### 12. **Swarm Intelligence-Based Systems**\n",
       "Recommendations that use swarm intelligence to optimize recommendations.\n",
       "\n",
       "### 13. **Deep Learning-Based Systems**\n",
       "Recommendations that use deep learning to learn complex patterns in user behavior.\n",
       "\n",
       "### 14. **Neural Collaborative Filtering (NCF)**\n",
       "Variant of collaborative filtering that uses neural networks.\n",
       "\n",
       "### 15. **Visual-Based Systems**\n",
       "Recommendations that use visual features and computer vision techniques.\n",
       "\n",
       "### 16. **Multimedia Recommendation Systems**\n",
       "Recommendations that handle multimedia data such as images, audio, and video.\n",
       "\n",
       "### 17. **Knowledge Graph-Based Systems**\n",
       "Recommendations that exploit knowledge graphs to reason about entities and relationships.\n",
       "\n",
       "### 18. **Explainable Recommendation Systems**\n",
       "Recommendations that provide clear explanations for the suggested items.\n",
       "\n",
       "### 19. **Diversity-Aware Systems**\n",
       "Recommendations that consider diversity and novelty in the suggested items.\n",
       "\n",
       "### 20. **Real-Time Recommendation Systems**\n",
       "Recommendations that provide instant suggestions based on user behavior.\n",
       "\n",
       "Note: These categories are not mutually exclusive, and many real-world systems use a combination of these techniques to provide personalized recommendations."
      ]
     },
     "metadata": {},
     "output_type": "display_data"
    }
   ],
   "source": [
    "get_llama_assistance(\"Can you list out all recommendation systems?\")"
   ]
  },
  {
   "cell_type": "code",
   "execution_count": 46,
   "metadata": {},
   "outputs": [
    {
     "data": {
      "text/markdown": [
       "*None*"
      ]
     },
     "metadata": {},
     "output_type": "display_data"
    }
   ],
   "source": [
    "get_llama_assistance(\"what was my previous prompt?\")"
   ]
  },
  {
   "cell_type": "code",
   "execution_count": 47,
   "metadata": {},
   "outputs": [
    {
     "data": {
      "text/markdown": [
       "*I'm just a language model, I don't have real-time access to the current time. However, I can tell you how to find the current time:*\n",
       "\n",
       "### Get the current time:\n",
       "\n",
       "* **Check your device's clock**: Look at the clock on your phone, computer, or any other device to see the current time.\n",
       "* **Search online**: Type \"current time\" or \"what time is it now\" in a search engine, and it will show you the current time based on your location.\n",
       "* **Use a voice assistant**: Ask a voice assistant like Siri, Google Assistant, or Alexa \"what time is it?\" and they will tell you the current time."
      ]
     },
     "metadata": {},
     "output_type": "display_data"
    }
   ],
   "source": [
    "get_llama_assistance(\"what time is it now?\")"
   ]
  },
  {
   "cell_type": "code",
   "execution_count": 48,
   "metadata": {},
   "outputs": [
    {
     "data": {
      "text/markdown": [
       "### Best Free OCR for Code Integrations\n",
       "\n",
       "Here are some of the best free OCR (Optical Character Recognition) options you can use in your code:\n",
       "\n",
       "### 1. **Tesseract.js**\n",
       "========\n",
       "\n",
       "* **Pros:** Fast, lightweight, and easy to integrate.\n",
       "* **Cons:** Not perfect accuracy, limited features.\n",
       "* **Language support:** 100+ languages.\n",
       "* **Integrations:** Browser, Node.js, Python.\n",
       "\n",
       "### 2. **pdf2Text.js**\n",
       "========\n",
       "\n",
       "* **Pros:** Simple, fast, and easy to use.\n",
       "* **Cons:** Limited features, not ideal for complex layouts.\n",
       "* **Language support:** 30+ languages.\n",
       "* **Integrations:** Browser, Node.js.\n",
       "\n",
       "### 3. **OCR.space**\n",
       "===\n",
       "\n",
       "* **Pros:** Accurate, free, and easy to use.\n",
       "* **Cons:** Limited requests per hour, may require API key.\n",
       "* **Language support:** 100+ languages.\n",
       "* **Integrations:** Web API, Mobile Apps.\n",
       "\n",
       "### 4. **Google's Tesseract OCR**\n",
       "=====================\n",
       "\n",
       "* **Pros:** High accuracy, widely used.\n",
       "* **Cons:** Steeper learning curve, separate command-line tool.\n",
       "* **Language support:** 100+ languages.\n",
       "* **Integrations:** Command-line, Mobile Apps, Python, Java.\n",
       "\n",
       "### 5. **Online OCR Tools (APIs)**\n",
       "===============\n",
       "\n",
       "* **Pros:** Easy to integrate, scalable.\n",
       "* **Cons:** May require API key, rate limiting.\n",
       "* **Language support:** Varies per service.\n",
       "* **Integrations:** Web API.\n",
       "\n",
       "Some popular online OCR APIs:\n",
       "\n",
       "* OCR.space\n",
       "* OCR Online\n",
       "* OCR HQ\n",
       "* Readiris\n",
       "\n",
       "### **Remember**\n",
       "\n",
       "Before choosing an OCR, consider factors like:\n",
       "\n",
       "* Accuracy\n",
       "* Language support\n",
       "* Complexity of the scanned document\n",
       "* Performance\n",
       "* Integration and coding requirements\n",
       "* Resource availability\n",
       "\n",
       "Try a few of these options to see which one works best for your specific use case."
      ]
     },
     "metadata": {},
     "output_type": "display_data"
    }
   ],
   "source": [
    "get_llama_assistance(\"which one is the best free OCR that i can use in for code?\")"
   ]
  },
  {
   "cell_type": "code",
   "execution_count": null,
   "metadata": {},
   "outputs": [],
   "source": []
  }
 ],
 "metadata": {
  "kernelspec": {
   "display_name": "venv",
   "language": "python",
   "name": "python3"
  },
  "language_info": {
   "codemirror_mode": {
    "name": "ipython",
    "version": 3
   },
   "file_extension": ".py",
   "mimetype": "text/x-python",
   "name": "python",
   "nbconvert_exporter": "python",
   "pygments_lexer": "ipython3",
   "version": "3.12.0"
  }
 },
 "nbformat": 4,
 "nbformat_minor": 2
}
