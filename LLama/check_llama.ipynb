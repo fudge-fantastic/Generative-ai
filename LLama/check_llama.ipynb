{
 "cells": [
  {
   "cell_type": "code",
   "execution_count": 1,
   "metadata": {},
   "outputs": [],
   "source": [
    "import os\n",
    "import dotenv\n",
    "from groq import Groq\n",
    "from IPython.display import display_markdown\n",
    "\n",
    "dotenv.load_dotenv()\n",
    "api_key = os.environ.get(\"GROQ_API_KEY\")\n",
    "\n",
    "if not api_key:\n",
    "    raise ValueError(\"GROQ_API_KEY environment variable not set\")"
   ]
  },
  {
   "cell_type": "code",
   "execution_count": 2,
   "metadata": {},
   "outputs": [],
   "source": [
    "def get_llama_assistance(prompt):\n",
    "  client = Groq(api_key=api_key)\n",
    "  completion = client.chat.completions.create(\n",
    "      model=\"llama3-70b-8192\",\n",
    "      messages=[\n",
    "          {\n",
    "              \"role\": \"user\",\n",
    "              \"content\": prompt\n",
    "          },\n",
    "          {\n",
    "              \"role\": \"assistant\",\n",
    "              \"content\": \"\"\n",
    "          }\n",
    "      ],\n",
    "      temperature=1.4,\n",
    "      max_tokens=8192,\n",
    "      top_p=1,\n",
    "      stream=True,\n",
    "      stop=None,\n",
    "  )\n",
    "\n",
    "  response_text = \"\"\n",
    "\n",
    "  for chunk in completion:\n",
    "    response_text += chunk.choices[0].delta.content or \"\"\n",
    "\n",
    "  # Display the formatted response in markdown\n",
    "  display_markdown(f\"`\\n{response_text}\\n`\", raw=True)"
   ]
  },
  {
   "cell_type": "code",
   "execution_count": 3,
   "metadata": {},
   "outputs": [
    {
     "data": {
      "text/markdown": [
       "`\n",
       "Here is a Python code to find the median of two sorted arrays:\n",
       "```\n",
       "def find_median(arr1, arr2):\n",
       "    # Combine the two sorted arrays into a single sorted list\n",
       "    combined = sorted(arr1 + arr2)\n",
       "\n",
       "    # Calculate the length of the combined list\n",
       "    length = len(combined)\n",
       "\n",
       "    # If the length is even, the median is the average of the two middle elements\n",
       "    if length % 2 == 0:\n",
       "        median = (combined[length // 2 - 1] + combined[length // 2]) / 2\n",
       "    # If the length is odd, the median is the middle element\n",
       "    else:\n",
       "        median = combined[length // 2]\n",
       "\n",
       "    return median\n",
       "```\n",
       "Here's an example usage:\n",
       "```\n",
       "arr1 = [1, 3, 5, 7]\n",
       "arr2 = [2, 4, 6, 8]\n",
       "\n",
       "median = find_median(arr1, arr2)\n",
       "print(\"Median:\", median)  # Output: Median: 4.5\n",
       "```\n",
       "This code works by concatenating the two input arrays into a single sorted list, and then calculating the median based on the length of the combined list. If the length is even, it takes the average of the two middle elements as the median, and if the length is odd, it takes the middle element as the median.\n",
       "\n",
       "Note that this code assumes that the input arrays are sorted in ascending order. If the input arrays are not sorted, you may need to modify the code to sort them first.\n",
       "`"
      ]
     },
     "metadata": {},
     "output_type": "display_data"
    }
   ],
   "source": [
    "user_prompt = \"Write a Python code to find the median of two sorted arrays\"\n",
    "get_llama_assistance(user_prompt)"
   ]
  },
  {
   "cell_type": "code",
   "execution_count": 4,
   "metadata": {},
   "outputs": [
    {
     "data": {
      "text/markdown": [
       "`\n",
       "Once upon a time, in a sunny orchard nestled in the heart of California, grew a tiny but mighty almond named Allie.\n",
       "\n",
       "Allie was smaller than the other almonds on the tree, but what she lacked in size, she made up for in spirit. She dreamed of one day becoming the star of the harvesting season, THE almond that would be plucked from the branch and turned into something truly special.\n",
       "\n",
       "As the growing season unfolded, Allie watched as the other almonds around her grew bigger and plumper. She tried her best to keep up, but no matter how hard she tried, she just couldn't seem to grow as big as the others.\n",
       "\n",
       "Feeling discouraged, Allie confided in her wise old tree, \"Why can't I be like the others? Why am I so small?\"\n",
       "\n",
       "The tree's gentle rustle replied, \"Ah, little one, your smallness is your greatest strength. You are more flavorful and nutritionally dense than your larger counterparts. Your unique sweetness will make you a prized find for the harvesters.\"\n",
       "\n",
       "Allie's shell began to glow with excitement. She had never thought of her small size as an advantage before! The tree's words of encouragement gave her the strength to stand tall and proud, even among the larger almonds.\n",
       "\n",
       "As harvest time approached, a gentle hand plucked Allie from her branch. She felt the warm sun on her skin as she was gathered into a basket with her fellow almonds.\n",
       "\n",
       "As fate would have it, a skillful baker named Emma carefully selected Allie to be the crowning jewel of her famous almond croissants. The aroma of Allie's roasted goodness wafted from the oven, enticing the bakery patrons.\n",
       "\n",
       "One bite of Emma's croissant and the customers were hooked. \"What's the secret ingredient?\" they asked. Emma smiled, knowing it was the small but mighty Allie that brought the magic.\n",
       "\n",
       "Word of the delicious almond spread, and soon, people came from far and wide to taste Emma's creations. Allie, once doubted for her small size, had become the star of the show – a shining example that even the smallest among us can make a big impact.\n",
       "\n",
       "From that day forward, Allie's legend grew, inspiring others to celebrate their unique qualities and never underestimate the power of being different. In the cozy orchard, the tree's rustling leaves whispered stories of Allie's adventures to the surrounding almonds, reminding them that sometimes, it's our differences that make us the most special of all.\n",
       "`"
      ]
     },
     "metadata": {},
     "output_type": "display_data"
    }
   ],
   "source": [
    "user_prompt = \"Can you write a cute story on an almond\"\n",
    "get_llama_assistance(user_prompt)"
   ]
  },
  {
   "cell_type": "code",
   "execution_count": 5,
   "metadata": {},
   "outputs": [
    {
     "data": {
      "text/markdown": [
       "`\n",
       "Here is a random table:\n",
       "\n",
       "| **Color** | **Fruit** | **Personality Type** | **Age** |\n",
       "| --------- | ------- | -------------------- | ------ |\n",
       "| **Blue** | Apple   | Optimistic            | 32      |\n",
       "| **Red**  | Cherry  | Outgoing              | 25      |\n",
       "| **Green** | Kiwi    | Analytical            | 41      |\n",
       "| **Yellow**| Banana   | Creative              | 29      |\n",
       "\n",
       "Let me know if you want me to randomize a new table or if you have any specific requirements for the table!\n",
       "`"
      ]
     },
     "metadata": {},
     "output_type": "display_data"
    }
   ],
   "source": [
    "get_llama_assistance(\"Can you show me any random table\")"
   ]
  },
  {
   "cell_type": "code",
   "execution_count": 6,
   "metadata": {},
   "outputs": [
    {
     "data": {
      "text/markdown": [
       "`\n",
       "Creating a strong portfolio as a data scientist is crucial to showcase your skills, attract potential employers, and stand out in a competitive job market. Here are some tips to help you create a better portfolio:\n",
       "\n",
       "**1. Define your goals**: Identify what you want to achieve with your portfolio. Are you looking for a job, trying to attract clients, or wanting to share your projects with the community? This will help you focus on the type of projects and content to highlight.\n",
       "\n",
       "**2. Choose projects that demonstrate your skills**: Select projects that showcase your technical skills, data analysis, visualization, machine learning, and communication abilities. Consider including:\n",
       "\t* Exploratory data analysis (EDA) projects that highlight your attention to detail and data storytelling skills.\n",
       "\t* Machine learning projects that demonstrate your ability to train and deploy models.\n",
       "\t* Visualization projects that showcase your ability to communicate insights effectively.\n",
       "\n",
       "**3. Diversify your projects**: In addition to technical skills, showcase your expertise in different domains, such as:\n",
       "\t* Projects in finance, healthcare, marketing, or environmental sustainability.\n",
       "\t* Collaborations or contributions to open-source projects.\n",
       "\t* Applications of data science in less traditional areas, like sports, art, or food.\n",
       "\n",
       "**4. Highlight versatility**: Demonstrate your adaptability by working with different tools, technologies, and methodologies. Consider projects that use:\n",
       "\t* Python, R, SQL, or other programming languages.\n",
       "\t* Deep learning frameworks like TensorFlow, PyTorch, or Keras.\n",
       "\t* Cloud-based services like AWS, Google Cloud, or Microsoft Azure.\n",
       "\n",
       "**5. Curate a strong narrative**: Create a story around your projects, explaining:\n",
       "\t* The problem statement, data sources, and methodology used.\n",
       "\t* Challenges overcome and lessons learned.\n",
       "\t* Insights, correlations, or actionable recommendations.\n",
       "\t* Key takeaways, visualizations, or conclusions.\n",
       "\n",
       "**6. Visualize and present your work effectively**:\n",
       "\t* Use data visualization tools like Tableau, Power BI, or D3.js to communicate insights effectively.\n",
       "\t* Create interactive dashboards or Web applications using Flask, Django, or React.\n",
       "\t* Craft a compelling narrative around your projects, making it easy for others to understand.\n",
       "\n",
       "**7. Quantify your achievements**: Quantify the impact of your projects by mentioning metrics such as:\n",
       "\t* x% improvement in model accuracy.\n",
       "\t* y% reduction in processing time.\n",
       "\t* z% increase in profit or ROI.\n",
       "\n",
       "**8. Organize and make it discoverable**:\n",
       "\t* Create a clear structure for your portfolio, using categories or tags.\n",
       "\t* Use metadata, likes, and keywords to make your projects easily accessible.\n",
       "\t* Make it mobile-friendly and test for usability.\n",
       "\n",
       "**9. Keep it updated and regularly maintained**:\n",
       "\t* Periodically add new projects or update existing ones to showcase growth.\n",
       "\t* Refresh your portfolio's content to ensure its relevance and accuracy.\n",
       "\t* Delete or archive projects that are no longer relevant.\n",
       "\n",
       "**10. Receive feedback and iterate**:\n",
       "\t* Share your portfolio with peers, mentors, or potential employers to get feedback.\n",
       "\t* Incorporate constructive criticism to improve your portfolio's clarity, relevance, and impact.\n",
       "\n",
       "**Additionaltips**:\n",
       "\n",
       "* Host your portfolio on platforms like GitHub, GitLab, or personal websites like WordPress or Wix.\n",
       "* Use GitHub Pages or GitHub Templates to create a portfolio directly from your GitHub repository.\n",
       "* Consider sharing your thought process, hypotheses, and experiments, in addition to the final project outcomes.\n",
       "\n",
       "By following these tips, you'll be well on your way to creating a strong, effective, and compelling portfolio that showcases your skills and expertise as a data scientist.\n",
       "`"
      ]
     },
     "metadata": {},
     "output_type": "display_data"
    }
   ],
   "source": [
    "get_llama_assistance(\"Dude can you give me some tips to create a better portfolio? (as a data scientist)\")"
   ]
  },
  {
   "cell_type": "code",
   "execution_count": 7,
   "metadata": {},
   "outputs": [
    {
     "data": {
      "text/markdown": [
       "`\n",
       "Here is an example of how you could implement a function to reverse nodes in k-groups in a linked list in Python:\n",
       "```\n",
       "# Definition for singly-linked list.\n",
       "class ListNode:\n",
       "    def __init__(self, x):\n",
       "        self.val = x\n",
       "        self.next = None\n",
       "\n",
       "def reverseKGroup(head, k):\n",
       "    current = head\n",
       "    count = 0\n",
       "    while current and count < k:\n",
       "        current = current.next\n",
       "        count += 1\n",
       "    if count == k:\n",
       "        current = reverseKGroup(current, k)\n",
       "        while count > 0:\n",
       "            temp = head.next\n",
       "            head.next = current\n",
       "            current = head\n",
       "            head = temp\n",
       "            count -= 1\n",
       "    return current\n",
       "```\n",
       "Here's an explanation of how the function works:\n",
       "\n",
       "1. We initialize a `current` pointer to the head of the list, and a `count` variable to 0.\n",
       "2. We traverse the list, incrementing `count` each time we move to the next node, until `count` reaches `k`.\n",
       "3. If `count` reaches `k`, we recursively call the `reverseKGroup` function on the remaining nodes.\n",
       "4. We then iterate `k` times, reversing the order of the nodes in the current group. We do this by swapping the `next` pointers of adjacent nodes.\n",
       "5. Finally, we return the new head of the reversed group.\n",
       "\n",
       "For example, if you have a linked list [1, 2, 3, 4, 5, 6, 7, 8] and you call `reverseKGroup(head, 3)`, the resulting list would be [3, 2, 1, 6, 5, 4, 7, 8].\n",
       "\n",
       "Note that this function assumes that the input list is a singly linked list, and that the `k` parameter is a positive integer. Also, this function only works for lists that can be divided evenly into groups of size `k`. If the list has a length that is not a multiple of `k`, the remaining nodes will not be reversed.\n",
       "\n",
       "Also, this is a recursive solution, which can be limited by the maximum recursion depth. For a large `k` or a very long list, this function can exceed the maximum recursion depth and cause a stack overflow. An iterative solution is generally preferred for such cases.\n",
       "`"
      ]
     },
     "metadata": {},
     "output_type": "display_data"
    }
   ],
   "source": [
    "get_llama_assistance(\"I need a code for Reverse Nodes in k-Group\")"
   ]
  }
 ],
 "metadata": {
  "kernelspec": {
   "display_name": "venv",
   "language": "python",
   "name": "python3"
  },
  "language_info": {
   "codemirror_mode": {
    "name": "ipython",
    "version": 3
   },
   "file_extension": ".py",
   "mimetype": "text/x-python",
   "name": "python",
   "nbconvert_exporter": "python",
   "pygments_lexer": "ipython3",
   "version": "3.12.0"
  }
 },
 "nbformat": 4,
 "nbformat_minor": 2
}
